import random
words = [
    'python', 'javascript', 'kotlin', 'ruby', 'swift', 'algorithm',
    'compiler', 'database', 'encryption', 'firewall', 'hardware',
    'internet', 'java', 'kernel', 'malware', 'network', 'object',
    'protocol', 'query', 'router', 'security', 'token', 'url',
    'virtual', 'wireless', 'xml', 'yaml', 'zip', 'abstract', 'binary',
    'cache', 'developer', 'ethernet', 'framework', 'gateway', 'hexadecimal',
    'iteration', 'juxtapose', 'keystroke', 'lambda', 'metadata', 'node']
hangman_stages = ["""  
   +---+
   O   |
  /|\\  |
  / \\  |
      ===""", '''
   +---+
   O   |
  /|\\  |
  /    |
      ===''', '''
   +---+
   O   |
  /|\\  |
       |
      ===''', '''
   +---+
   O   |
  /|   |
       |
      ===''', '''
   +---+
   O   |
   |   |
       |
      ===''', '''
   +---+
   O   |
       |
       |
      ===''', '''
   +---+
       |
       |
       |
      ===''',]
print("\tWelcome to Hangman!!!!")
#chose a word from the list
choosen_word = random.choice(words)
print("Choosen Word is: ", choosen_word)
#Maximum No of Attempts
attempts = 6
word_display = []
for i in choosen_word:
     word_display.append('_')
print(word_display)

#Display Current stage of word and hangman
def display_state():
    print(f"attempts = {attempts}")
    print(hangman_stages[attempts])
    print(' '.join(word_display))

def display_word():
    print(' '.join(word_display))

while(attempts > 0 and '_' in word_display):
    display_state()
    guess = input("Guess a Letter: ").lower()
    
    #check if guessed letter is correct
    if guess in choosen_word:
        for index, letter in enumerate(choosen_word):
            if letter == guess:
                if word_display[index] == '_':
                    word_display[index] = guess
    else:
        print("Incorrect Choice. Try again")
        attempts -=1
    if '_' not in word_display:
        display_state()
        print("Congratulation, You won the Game!!")
        break

#Loop ends because of running out of attempts
if(attempts == 0):
    display_state()
    print("Sorry, You lost the Game. The word choosen was: ", choosen_word)
