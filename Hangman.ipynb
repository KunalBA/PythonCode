{
 "cells": [
  {
   "cell_type": "code",
   "execution_count": 3,
   "id": "8cf8134c-f220-4560-a7da-dee7c4be7d55",
   "metadata": {},
   "outputs": [
    {
     "name": "stdout",
     "output_type": "stream",
     "text": [
      "\tWelcome to Hangman!!!!\n",
      "Choosen Word is:  object\n",
      "['_', '_', '_', '_', '_', '_']\n",
      "attempts = 6\n",
      "\n",
      "   +---+\n",
      "       |\n",
      "       |\n",
      "       |\n",
      "      ===\n",
      "_ _ _ _ _ _\n"
     ]
    },
    {
     "name": "stdin",
     "output_type": "stream",
     "text": [
      "Guess a Letter:  w\n"
     ]
    },
    {
     "name": "stdout",
     "output_type": "stream",
     "text": [
      "Incorrect Choice. Try again\n",
      "attempts = 5\n",
      "\n",
      "   +---+\n",
      "   O   |\n",
      "       |\n",
      "       |\n",
      "      ===\n",
      "_ _ _ _ _ _\n"
     ]
    },
    {
     "name": "stdin",
     "output_type": "stream",
     "text": [
      "Guess a Letter:  w\n"
     ]
    },
    {
     "name": "stdout",
     "output_type": "stream",
     "text": [
      "Incorrect Choice. Try again\n",
      "attempts = 4\n",
      "\n",
      "   +---+\n",
      "   O   |\n",
      "   |   |\n",
      "       |\n",
      "      ===\n",
      "_ _ _ _ _ _\n"
     ]
    },
    {
     "name": "stdin",
     "output_type": "stream",
     "text": [
      "Guess a Letter:  w\n"
     ]
    },
    {
     "name": "stdout",
     "output_type": "stream",
     "text": [
      "Incorrect Choice. Try again\n",
      "attempts = 3\n",
      "\n",
      "   +---+\n",
      "   O   |\n",
      "  /|   |\n",
      "       |\n",
      "      ===\n",
      "_ _ _ _ _ _\n"
     ]
    },
    {
     "name": "stdin",
     "output_type": "stream",
     "text": [
      "Guess a Letter:  w\n"
     ]
    },
    {
     "name": "stdout",
     "output_type": "stream",
     "text": [
      "Incorrect Choice. Try again\n",
      "attempts = 2\n",
      "\n",
      "   +---+\n",
      "   O   |\n",
      "  /|\\  |\n",
      "       |\n",
      "      ===\n",
      "_ _ _ _ _ _\n"
     ]
    },
    {
     "name": "stdin",
     "output_type": "stream",
     "text": [
      "Guess a Letter:  w\n"
     ]
    },
    {
     "name": "stdout",
     "output_type": "stream",
     "text": [
      "Incorrect Choice. Try again\n",
      "attempts = 1\n",
      "\n",
      "   +---+\n",
      "   O   |\n",
      "  /|\\  |\n",
      "  /    |\n",
      "      ===\n",
      "_ _ _ _ _ _\n"
     ]
    },
    {
     "name": "stdin",
     "output_type": "stream",
     "text": [
      "Guess a Letter:  w\n"
     ]
    },
    {
     "name": "stdout",
     "output_type": "stream",
     "text": [
      "Incorrect Choice. Try again\n",
      "attempts = 0\n",
      "  \n",
      "   +---+\n",
      "   O   |\n",
      "  /|\\  |\n",
      "  / \\  |\n",
      "      ===\n",
      "_ _ _ _ _ _\n",
      "Sorry, You lost the Game. The word choosen was:  object\n"
     ]
    }
   ],
   "source": [
    "import random\n",
    "words = [\n",
    "    'python', 'javascript', 'kotlin', 'ruby', 'swift', 'algorithm',\n",
    "    'compiler', 'database', 'encryption', 'firewall', 'hardware',\n",
    "    'internet', 'java', 'kernel', 'malware', 'network', 'object',\n",
    "    'protocol', 'query', 'router', 'security', 'token', 'url',\n",
    "    'virtual', 'wireless', 'xml', 'yaml', 'zip', 'abstract', 'binary',\n",
    "    'cache', 'developer', 'ethernet', 'framework', 'gateway', 'hexadecimal',\n",
    "    'iteration', 'juxtapose', 'keystroke', 'lambda', 'metadata', 'node']\n",
    "hangman_stages = [\"\"\"  \n",
    "   +---+\n",
    "   O   |\n",
    "  /|\\\\  |\n",
    "  / \\\\  |\n",
    "      ===\"\"\", '''\n",
    "   +---+\n",
    "   O   |\n",
    "  /|\\\\  |\n",
    "  /    |\n",
    "      ===''', '''\n",
    "   +---+\n",
    "   O   |\n",
    "  /|\\\\  |\n",
    "       |\n",
    "      ===''', '''\n",
    "   +---+\n",
    "   O   |\n",
    "  /|   |\n",
    "       |\n",
    "      ===''', '''\n",
    "   +---+\n",
    "   O   |\n",
    "   |   |\n",
    "       |\n",
    "      ===''', '''\n",
    "   +---+\n",
    "   O   |\n",
    "       |\n",
    "       |\n",
    "      ===''', '''\n",
    "   +---+\n",
    "       |\n",
    "       |\n",
    "       |\n",
    "      ===''',]\n",
    "print(\"\\tWelcome to Hangman!!!!\")\n",
    "#chose a word from the list\n",
    "choosen_word = random.choice(words)\n",
    "print(\"Choosen Word is: \", choosen_word)\n",
    "#Maximum No of Attempts\n",
    "attempts = 6\n",
    "word_display = []\n",
    "for i in choosen_word:\n",
    "     word_display.append('_')\n",
    "print(word_display)\n",
    "\n",
    "#Display Current stage of word and hangman\n",
    "def display_state():\n",
    "    print(f\"attempts = {attempts}\")\n",
    "    print(hangman_stages[attempts])\n",
    "    print(' '.join(word_display))\n",
    "\n",
    "def display_word():\n",
    "    print(' '.join(word_display))\n",
    "\n",
    "while(attempts > 0 and '_' in word_display):\n",
    "    display_state()\n",
    "    guess = input(\"Guess a Letter: \").lower()\n",
    "    \n",
    "    #check if guessed letter is correct\n",
    "    if guess in choosen_word:\n",
    "        for index, letter in enumerate(choosen_word):\n",
    "            if letter == guess:\n",
    "                if word_display[index] == '_':\n",
    "                    word_display[index] = guess\n",
    "    else:\n",
    "        print(\"Incorrect Choice. Try again\")\n",
    "        attempts -=1\n",
    "    if '_' not in word_display:\n",
    "        display_state()\n",
    "        print(\"Congratulation, You won the Game!!\")\n",
    "        break\n",
    "\n",
    "#Loop ends because of running out of attempts\n",
    "if(attempts == 0):\n",
    "    display_state()\n",
    "    print(\"Sorry, You lost the Game. The word choosen was: \", choosen_word)"
   ]
  }
 ],
 "metadata": {
  "kernelspec": {
   "display_name": "Python 3 (ipykernel)",
   "language": "python",
   "name": "python3"
  },
  "language_info": {
   "codemirror_mode": {
    "name": "ipython",
    "version": 3
   },
   "file_extension": ".py",
   "mimetype": "text/x-python",
   "name": "python",
   "nbconvert_exporter": "python",
   "pygments_lexer": "ipython3",
   "version": "3.12.4"
  }
 },
 "nbformat": 4,
 "nbformat_minor": 5
}
