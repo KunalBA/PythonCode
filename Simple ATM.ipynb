{
 "cells": [
  {
   "cell_type": "code",
   "execution_count": 5,
   "id": "079dd515-455a-44f3-802e-dba224e85a13",
   "metadata": {},
   "outputs": [
    {
     "name": "stdin",
     "output_type": "stream",
     "text": [
      "Enter Pin 1234\n"
     ]
    },
    {
     "name": "stdout",
     "output_type": "stream",
     "text": [
      "Enter Choice\n",
      "    1: Check Balance\n",
      "    2: Deposite Money\n",
      "    3: Withdraw Money\n",
      "    4: Exit\n"
     ]
    },
    {
     "name": "stdin",
     "output_type": "stream",
     "text": [
      "Enter Choice 1\n"
     ]
    },
    {
     "name": "stdout",
     "output_type": "stream",
     "text": [
      "the current balance amount is  1000\n",
      "Enter Choice\n",
      "    1: Check Balance\n",
      "    2: Deposite Money\n",
      "    3: Withdraw Money\n",
      "    4: Exit\n"
     ]
    },
    {
     "name": "stdin",
     "output_type": "stream",
     "text": [
      "Enter Choice 2\n",
      "Enter amount to be deposited 100\n"
     ]
    },
    {
     "name": "stdout",
     "output_type": "stream",
     "text": [
      "the updated balance amount is  1100\n",
      "Enter Choice\n",
      "    1: Check Balance\n",
      "    2: Deposite Money\n",
      "    3: Withdraw Money\n",
      "    4: Exit\n"
     ]
    },
    {
     "name": "stdin",
     "output_type": "stream",
     "text": [
      "Enter Choice 3\n",
      "Enter amount to be withdraw 100\n"
     ]
    },
    {
     "name": "stdout",
     "output_type": "stream",
     "text": [
      "the updated balance amount is  1000\n",
      "Enter Choice\n",
      "    1: Check Balance\n",
      "    2: Deposite Money\n",
      "    3: Withdraw Money\n",
      "    4: Exit\n"
     ]
    },
    {
     "name": "stdin",
     "output_type": "stream",
     "text": [
      "Enter Choice 8\n"
     ]
    },
    {
     "name": "stdout",
     "output_type": "stream",
     "text": [
      "Invalid Choice.. Try writing right choice\n",
      "Enter Choice\n",
      "    1: Check Balance\n",
      "    2: Deposite Money\n",
      "    3: Withdraw Money\n",
      "    4: Exit\n"
     ]
    },
    {
     "name": "stdin",
     "output_type": "stream",
     "text": [
      "Enter Choice 5\n"
     ]
    },
    {
     "name": "stdout",
     "output_type": "stream",
     "text": [
      "Invalid Choice.. Try writing right choice\n",
      "Enter Choice\n",
      "    1: Check Balance\n",
      "    2: Deposite Money\n",
      "    3: Withdraw Money\n",
      "    4: Exit\n"
     ]
    },
    {
     "name": "stdin",
     "output_type": "stream",
     "text": [
      "Enter Choice 4\n"
     ]
    },
    {
     "name": "stdout",
     "output_type": "stream",
     "text": [
      "Thank you!! Have a Nice day\n"
     ]
    }
   ],
   "source": [
    "#### print(\"Welcome User!!\")\n",
    "balance = 1000\n",
    "user_pin = 1234\n",
    "entered_pin = int(input(\"Enter Pin\"))\n",
    "if(entered_pin == user_pin):\n",
    "    atm_on = True\n",
    "else:\n",
    "    atm_on = False\n",
    "    print(\"Pin Invalid\")\n",
    "\n",
    "while(atm_on):\n",
    "    print(\"\"\"Enter Choice\n",
    "    1: Check Balance\n",
    "    2: Deposite Money\n",
    "    3: Withdraw Money\n",
    "    4: Exit\"\"\")\n",
    "    choice = int(input(\"Enter Choice\"))\n",
    "    if(choice == 1):\n",
    "        print(\"the current balance amount is \", balance)\n",
    "    elif(choice == 2):\n",
    "        amount = int(input(\"Enter amount to be deposited\"))\n",
    "        balance = balance + amount\n",
    "        print(\"the updated balance amount is \", balance)\n",
    "    elif(choice == 3):\n",
    "        amount = int(input(\"Enter amount to be withdraw\"))\n",
    "        if(amount<= balance):\n",
    "            balance = balance - amount\n",
    "            print(\"the updated balance amount is \", balance)\n",
    "        else:\n",
    "            print(\"Balance is insufficient\")\n",
    "    elif(choice == 4):\n",
    "        print(\"Thank you!! Have a Nice day\")\n",
    "        atm_on = False\n",
    "        break\n",
    "    else:\n",
    "        print(\"Invalid Choice.. Try writing right choice\")"
   ]
  },
  {
   "cell_type": "code",
   "execution_count": null,
   "id": "1a1d4c9e-f123-4731-9cb2-135d68b928a5",
   "metadata": {},
   "outputs": [],
   "source": []
  }
 ],
 "metadata": {
  "kernelspec": {
   "display_name": "Python 3 (ipykernel)",
   "language": "python",
   "name": "python3"
  },
  "language_info": {
   "codemirror_mode": {
    "name": "ipython",
    "version": 3
   },
   "file_extension": ".py",
   "mimetype": "text/x-python",
   "name": "python",
   "nbconvert_exporter": "python",
   "pygments_lexer": "ipython3",
   "version": "3.12.4"
  }
 },
 "nbformat": 4,
 "nbformat_minor": 5
}
